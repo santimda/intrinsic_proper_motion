{
 "cells": [
  {
   "cell_type": "markdown",
   "metadata": {},
   "source": [
    "## This notebook is used to: \n",
    "### i) Transform proper motions to Galactic coordinates\n",
    "### ii) Correct for Galactic rotation \n",
    "### iii) Convert back to equatorial motions with respect to the surrounding medium"
   ]
  },
  {
   "cell_type": "code",
   "execution_count": 1,
   "metadata": {},
   "outputs": [],
   "source": [
    "import numpy as np\n",
    "import matplotlib.pyplot as plt\n",
    "import ast\n",
    "from uncertainties import ufloat, umath\n",
    "from uncertainties.umath import *\n",
    "\n",
    "import astropy.coordinates as coord\n",
    "import astropy.units as u\n",
    "\n",
    "from utils import *"
   ]
  },
  {
   "cell_type": "markdown",
   "metadata": {},
   "source": [
    "#### Read the information of the source from a file"
   ]
  },
  {
   "cell_type": "code",
   "execution_count": 2,
   "metadata": {},
   "outputs": [
    {
     "name": "stdout",
     "output_type": "stream",
     "text": [
      "{'ra': 308.40031523381674, 'ra_err': 0.010217067, 'dec': 43.98538212854551, 'dec_err': 0.010932052, 'parallax': 0.5823258993042517, 'parallax_err': 0.012209491, 'mu_ra_cosdec': -2.594735635507606, 'mu_ra_cosdec_err': 0.013595376, 'mu_dec': 0.7286401164024895, 'mu_dec_err': 0.014304411, 'V_r': 60, 'V_r_err': 10}\n"
     ]
    }
   ],
   "source": [
    "# reading the data from the file\n",
    "filename = 'BD+43_3654.txt'\n",
    "try:\n",
    "    with open(filename) as f:\n",
    "        data = f.read()\n",
    "    data = ast.literal_eval(data)\n",
    "except FileNotFoundError:\n",
    "    print(f\"File {filename} not found.\")\n",
    "    data = None\n",
    "\n",
    "print(data)"
   ]
  },
  {
   "cell_type": "markdown",
   "metadata": {},
   "source": [
    "#### Define a SkyCoord object using barycentric coordinates and velocity in the ICRS"
   ]
  },
  {
   "cell_type": "code",
   "execution_count": 3,
   "metadata": {},
   "outputs": [],
   "source": [
    "# Gaia DR3 data\n",
    "source = coord.SkyCoord(\n",
    "    ra=data['ra']*u.degree, \n",
    "    dec=data['dec']*u.degree,\n",
    "    distance=(data['parallax']*u.mas).to(u.kpc, u.parallax()),\n",
    "    pm_ra_cosdec=data['mu_ra_cosdec']*u.mas/u.yr,\n",
    "    pm_dec=data['mu_dec']*u.mas/u.yr,\n",
    "    radial_velocity=data['V_r']*u.km/u.s, \n",
    "    frame='icrs'\n",
    ")"
   ]
  },
  {
   "cell_type": "markdown",
   "metadata": {},
   "source": [
    "#### Get the Galactic coordinates and proper motions using astropy"
   ]
  },
  {
   "cell_type": "code",
   "execution_count": 4,
   "metadata": {},
   "outputs": [
    {
     "name": "stdout",
     "output_type": "stream",
     "text": [
      "Galactic coordinates: RA = 5.38260+/-0.00018 rad, DEC = 0.76769+/-0.00019 rad\n",
      "Proper motion: mu_ra = -2.59474+/-0.01360 mas/yr, mu_dec = 0.72864+/-0.01430 mas/yr\n",
      "Radial velocity: V_r = 60.00+/-10.00 km/s\n",
      "\n",
      "Distance: 1.717 kpc\n",
      "Galactic coordinates: l = 82.410°, b = 2.325°\n",
      "Proper motion: mu_l = -0.958 mas / yr, mu_b = 2.519 mas / yr\n"
     ]
    }
   ],
   "source": [
    "# Save in shorter-name variables. These are all adimensional.\n",
    "parallax = ufloat(data['parallax'], data['parallax_err'])\n",
    "ra_err = radians(data['ra_err'])\n",
    "dec_err = radians(data['dec_err'])\n",
    "pm_ra_err = data['mu_ra_cosdec_err']\n",
    "pm_dec_err = data['mu_dec_err']\n",
    "v_r_err = data['V_r_err']\n",
    "\n",
    "# Convert to ufloatable objects (adimensional)\n",
    "ra = ufloat(source.ra.radian, ra_err)\n",
    "dec = ufloat(source.dec.radian, dec_err)\n",
    "pm_ra = ufloat(source.pm_ra_cosdec.to('mas/yr').value, pm_ra_err)\n",
    "pm_dec = ufloat(source.pm_dec.to('mas/yr').value, pm_dec_err)\n",
    "V_r = ufloat(source.galactic.radial_velocity.value, v_r_err)\n",
    "print(f'Galactic coordinates: RA = {ra:.5f} rad, DEC = {dec:.5f} rad')\n",
    "print(f'Proper motion: mu_ra = {pm_ra:.5f} mas/yr, mu_dec = {pm_dec:.5f} mas/yr')\n",
    "print(f'Radial velocity: V_r = {V_r:.2f} km/s')\n",
    "\n",
    "# Retrieve coordinates, distance and proper motion in Galactic coordinates. These are not adimensional. \n",
    "l, b, D = source.galactic.l, source.galactic.b, source.galactic.distance\n",
    "mu_l, mu_b = source.galactic.pm_l_cosb, source.galactic.pm_b\n",
    "\n",
    "print(f'\\nDistance: {D:.3f}')\n",
    "print(f'Galactic coordinates: l = {l.deg:.3f}°, b = {b.deg:.3f}°')\n",
    "print(f'Proper motion: mu_l = {mu_l:.3f}, mu_b = {mu_b:.3f}')"
   ]
  },
  {
   "cell_type": "markdown",
   "metadata": {},
   "source": [
    "#### Re-do the conversion of coordinates having error propagation\n",
    "(The calculations within astropy do not work with ufloat objects. Check that the results are consistent.)"
   ]
  },
  {
   "cell_type": "code",
   "execution_count": 5,
   "metadata": {},
   "outputs": [
    {
     "name": "stdout",
     "output_type": "stream",
     "text": [
      "distance = 1.72+/-0.04 kpc\n",
      "Galactic longitude: l = 82.4099+/-0.0098 deg\n",
      "Galactic latitude: b = 2.3254+/-0.0088 deg\n",
      "mu_l = -0.960+/-0.014 mas/yr\n",
      "mu_b = 2.529+/-0.014 mas/yr\n"
     ]
    }
   ],
   "source": [
    "# Define the transformation matrix between celestial to Galactic coordinates as in: \n",
    "# https://gea.esac.esa.int/archive/documentation/GDR1/Data_processing/chap_cu3ast/sec_cu3ast_intro.html\n",
    "Ag = np.array([[-0.0548755604162154,-0.8734370902348850,-0.4838350155487132],\\\n",
    "              [0.4941094278755837,-0.4448296299600112,0.7469822444972189],\\\n",
    "              [-0.8676661490190047,-0.1980763734312015,0.4559837761750669]])\n",
    "\n",
    "dist = 1./parallax\n",
    "\n",
    "# Intermediate vector in the Galactic frame\n",
    "cra, sra = cos(ra), sin(ra)\n",
    "cd, sd = cos(dec), sin(dec)\n",
    "vector_gal = np.dot(Ag, np.array([cra * cd, sra * cd, sd]))\n",
    "\n",
    "# Galactic longitude (l) and latitude (b)\n",
    "l_gal = umath.atan2(vector_gal[1], vector_gal[0])\n",
    "b_gal = umath.atan2(vector_gal[2], sqrt(vector_gal[0]**2 + vector_gal[1]**2))\n",
    "\n",
    "# Calculate Galactic proper motions using the transformation matrix\n",
    "mul = -sin(l_gal) * ((-Ag[0, 0] * sra + Ag[0, 1] * cra) * pm_ra - \n",
    "                      (Ag[0, 0] * cra * cd + Ag[0, 1] * sra * sd - Ag[0, 2] * cd) * pm_dec) + \\\n",
    "      cos(l_gal) * ((-Ag[1, 0] * sra + Ag[1, 1] * cra) * pm_ra - \n",
    "                    (Ag[1, 0] * cra * cd + Ag[1, 1] * sra * sd - Ag[1, 2] * cd) * pm_dec)\n",
    "\n",
    "mub = -cos(l_gal) * sin(b_gal) * ((-Ag[0, 0] * sra + Ag[0, 1] * cra) * pm_ra - \n",
    "                                  (Ag[0, 0] * cra * cd + Ag[0, 1] * sra * sd - Ag[0, 2] * cd) * pm_dec) - \\\n",
    "      sin(l_gal) * sin(b_gal) * ((-Ag[1, 0] * sra + Ag[1, 1] * cra) * pm_ra - \n",
    "                                (Ag[1, 0] * cra * cd + Ag[1, 1] * sra * sd - Ag[1, 2] * cd) * pm_dec) + \\\n",
    "      cos(b_gal) * ((-Ag[2, 0] * sra + Ag[2, 1] * cra) * pm_ra - \n",
    "                    (Ag[2, 0] * cra * cd + Ag[2, 1] * sra * sd - Ag[2, 2] * cd) * pm_dec)\n",
    "\n",
    "print('distance =', dist, 'kpc')\n",
    "print(f'Galactic longitude: l = {l_gal*180/np.pi:.4f} deg')\n",
    "print(f'Galactic latitude: b = {b_gal*180/np.pi:.4f} deg')\n",
    "print(f'mu_l = {mul:.3f} mas/yr')\n",
    "print(f'mu_b = {mub:.3f} mas/yr')"
   ]
  },
  {
   "cell_type": "markdown",
   "metadata": {},
   "source": [
    "#### Calculate local Galactic velocity field at the position of the source"
   ]
  },
  {
   "cell_type": "code",
   "execution_count": 6,
   "metadata": {},
   "outputs": [
    {
     "name": "stdout",
     "output_type": "stream",
     "text": [
      "Galactic rotation in mas/yr at the location of the source:\n",
      "(μ_l)0 = -5.075+/-0.018, (μ_b)0 = -0.937+/-0.019\n"
     ]
    }
   ],
   "source": [
    "# Define the oort constants to use (accepted: 'C07', 'B19', 'W21' )\n",
    "#constants = 'C07'\n",
    "constants = 'B19'\n",
    "#constants = 'W21'\n",
    "A, B, C, K, U, V, W = oort_constants(constants)\n",
    "\n",
    "# Calculate Galactic rotation velocity components\n",
    "V_r0, V_l0, V_b0 = galactic_velocity(dist, b_gal, l_gal, A, B, C, K, U, V, W)\n",
    "\n",
    "# Convert velocities to proper motions\n",
    "mu_l0, mu_b0 = velocity_to_propermotion(dist, V_l0, V_b0)\n",
    "\n",
    "print('Galactic rotation in mas/yr at the location of the source:')\n",
    "print(f'(\\u03BC_l)0 = {mu_l0:.3f}, (\\u03BC_b)0 = {mu_b0:.3f}')"
   ]
  },
  {
   "cell_type": "markdown",
   "metadata": {},
   "source": [
    "#### Calculate the object proper motion w.r.t. the local medium"
   ]
  },
  {
   "cell_type": "code",
   "execution_count": 7,
   "metadata": {},
   "outputs": [
    {
     "name": "stdout",
     "output_type": "stream",
     "text": [
      "\n",
      "Corrected proper motion of the source w.r.t. its environment:\n",
      "μ_l = 4.116+/-0.023, μ_b = 3.466+/-0.023\n",
      "\n",
      "Observed proper motion: μ_ra = -2.59+/-0.01 mas/yr, μ_dec = 0.73+/-0.01 mas/yr\n",
      "Corrected proper motion: μ_ra = -0.08+/-0.03 mas/yr, μ_dec = 5.72+/-0.02 mas/yr\n",
      "\n",
      "Uncorrected angle [deg] = -15.69+/-0.30\n",
      "Corrected angle [deg] = -89.20+/-0.28\n",
      "\n",
      "V_t [km/s] = 43.80+/-0.94\n",
      "V_r [km/s] = 65+/-10\n"
     ]
    }
   ],
   "source": [
    "# Proper motions w.r.t. the surrounding medium:\n",
    "mu_l_corr = mul - mu_l0\n",
    "mu_b_corr = mub - mu_b0\n",
    "\n",
    "print('\\nCorrected proper motion of the source w.r.t. its environment:')\n",
    "print(f'\\u03BC_l = {mu_l_corr:.3f}, \\u03BC_b = {mu_b_corr:.3f}')\n",
    "\n",
    "#Calculate mu_ra, mu_dec, and V_tan. We use the transpose of the transformation matrix. \n",
    "Agt = Ag.T\n",
    "\n",
    "# Intermediate variables for trigonometric functions\n",
    "cos_l = cos(l_gal)\n",
    "sin_l = sin(l_gal)\n",
    "cos_b = cos(b_gal)\n",
    "sin_b = sin(b_gal)\n",
    "\n",
    "# Calculate mu_ra_corr\n",
    "mu_ra_corr = -sra * ( (-Agt[0, 0] * sin_l + Agt[0, 1] * cos_l) * mu_l_corr\\\n",
    "    - (Agt[0, 0] * cos_l * cos_b + Agt[0, 1] * sin_l * sin_b - Agt[0, 2] * cos_b) * mu_b_corr )\\\n",
    "    + cra * ( (-Agt[1, 0] * sin_l + Agt[1, 1] * cos_l ) * mu_l_corr\\\n",
    "    - (Agt[1, 0] * cos_l * cos_b + Agt[1, 1] * sin_l * sin_b - Agt[1, 2] * cos_b) * mu_b_corr )\n",
    "\n",
    "# Calculate mu_dec_corr\n",
    "mu_dec_corr = -cra * sd * ( (-Agt[0, 0] * sin_l + Agt[0, 1] * cos_l) * mu_l_corr\n",
    "    - (Agt[0, 0] * cos_l * cos_b + Agt[0, 1] * sin_l * sin_b - Agt[0, 2] * cos_b) * mu_b_corr )\\\n",
    "    - sra * sd * ( (-Agt[1, 0] * sin_l + Agt[1, 1] * cos_l) * mu_l_corr\n",
    "    - (Agt[1, 0] * cos_l * cos_b + Agt[1, 1] * sin_l * sin_b - Agt[1, 2] * cos_b) * mu_b_corr )\\\n",
    "    + cd * ( (-Agt[2, 0] * sin_l + Agt[2, 1] * cos_l) * mu_l_corr\n",
    "    - (Agt[2, 0] * cos_l * cos_b + Agt[2, 1] * sin_l * sin_b - Agt[2, 2] * cos_b) * mu_b_corr )\n",
    "\n",
    "print(f'\\nObserved proper motion: \\u03BC_ra = {pm_ra:.1u} mas/yr, \\u03BC_dec = {pm_dec:.1u} mas/yr')\n",
    "print(f'Corrected proper motion: \\u03BC_ra = {mu_ra_corr:.1u} mas/yr, \\u03BC_dec = {mu_dec_corr:.1u} mas/yr')\n",
    "\n",
    "# Calculate proper motion angle before and after correction for Galactic rotation \n",
    "angle = degrees( atan(pm_dec/pm_ra) )\n",
    "angle_corr = degrees( atan(mu_dec_corr/mu_ra_corr) )\n",
    "\n",
    "print(f'\\nUncorrected angle [deg] = {angle:.2u}')\n",
    "print(f'Corrected angle [deg] = {angle_corr:.2u}')\n",
    "\n",
    "# Calculate the corrected tangential velocity\n",
    "V_t = 4.74 * dist * sqrt(mu_l_corr**2 + mu_b_corr**2)\n",
    "print(f'\\nV_t [km/s] = {V_t:.2u}')\n",
    "\n",
    "# Calculate corrected radial velocity\n",
    "V_r_corr = V_r - V_r0\n",
    "print(f'V_r [km/s] = {V_r_corr:.2u}')"
   ]
  },
  {
   "cell_type": "code",
   "execution_count": null,
   "metadata": {},
   "outputs": [],
   "source": []
  }
 ],
 "metadata": {
  "kernelspec": {
   "display_name": "Python 3 (ipykernel)",
   "language": "python",
   "name": "python3"
  },
  "language_info": {
   "codemirror_mode": {
    "name": "ipython",
    "version": 3
   },
   "file_extension": ".py",
   "mimetype": "text/x-python",
   "name": "python",
   "nbconvert_exporter": "python",
   "pygments_lexer": "ipython3",
   "version": "3.9.18"
  }
 },
 "nbformat": 4,
 "nbformat_minor": 4
}
