{
 "cells": [
  {
   "cell_type": "markdown",
   "metadata": {},
   "source": [
    "## This notebook is used to: \n",
    "### i) Transform proper motions to Galactic coordinates\n",
    "### ii) Correct for Galactic rotation \n",
    "### iii) Convert back to equatorial motions with respect to the surrounding medium"
   ]
  },
  {
   "cell_type": "code",
   "execution_count": 1,
   "metadata": {},
   "outputs": [],
   "source": [
    "import numpy as np\n",
    "import ast\n",
    "from uncertainties import ufloat, umath\n",
    "from uncertainties.umath import *\n",
    "\n",
    "import astropy.coordinates as coord\n",
    "import astropy.units as u\n",
    "\n",
    "from utils import *"
   ]
  },
  {
   "cell_type": "markdown",
   "metadata": {},
   "source": [
    "#### Read the information of the source from a file"
   ]
  },
  {
   "cell_type": "code",
   "execution_count": 2,
   "metadata": {},
   "outputs": [
    {
     "name": "stdout",
     "output_type": "stream",
     "text": [
      "{'ra': 308.40031523381674, 'ra_err': 0.010217067, 'dec': 43.98538212854551, 'dec_err': 0.010932052, 'parallax': 0.5823258993042517, 'parallax_err': 0.012209491, 'mu_ra_cosdec': -2.594735635507606, 'mu_ra_cosdec_err': 0.013595376, 'mu_dec': 0.7286401164024895, 'mu_dec_err': 0.014304411, 'V_r': 60, 'V_r_err': 10}\n"
     ]
    }
   ],
   "source": [
    "# reading the data from the file\n",
    "filename = 'BD+43_3654.txt'\n",
    "try:\n",
    "    with open(filename) as f:\n",
    "        data = f.read()\n",
    "    data = ast.literal_eval(data)\n",
    "except FileNotFoundError:\n",
    "    print(f\"File {filename} not found.\")\n",
    "    data = None\n",
    "\n",
    "print(data)"
   ]
  },
  {
   "cell_type": "markdown",
   "metadata": {},
   "source": [
    "#### Define a SkyCoord object using barycentric coordinates and velocity in the ICRS"
   ]
  },
  {
   "cell_type": "code",
   "execution_count": 3,
   "metadata": {},
   "outputs": [],
   "source": [
    "# Gaia DR3 data\n",
    "source = coord.SkyCoord(\n",
    "    ra=data['ra']*u.degree, \n",
    "    dec=data['dec']*u.degree,\n",
    "    distance=(data['parallax']*u.mas).to(u.kpc, u.parallax()),\n",
    "    pm_ra_cosdec=data['mu_ra_cosdec']*u.mas/u.yr,\n",
    "    pm_dec=data['mu_dec']*u.mas/u.yr,\n",
    "    radial_velocity=data['V_r']*u.km/u.s, \n",
    "    frame='icrs'\n",
    ")"
   ]
  },
  {
   "cell_type": "markdown",
   "metadata": {},
   "source": [
    "#### Get the Galactic coordinates and proper motions using astropy"
   ]
  },
  {
   "cell_type": "code",
   "execution_count": 4,
   "metadata": {},
   "outputs": [
    {
     "name": "stdout",
     "output_type": "stream",
     "text": [
      "Galactic coordinates: RA = 5.38260+/-0.00018 rad, DEC = 0.76769+/-0.00019 rad\n",
      "Proper motion: mu_ra = -2.595+/-0.014 mas/yr, mu_dec = 0.729+/-0.014 mas/yr\n",
      "Radial velocity: V_r = 60.00+/-10.00 km/s\n",
      "\n",
      "Distance: 1.717 kpc\n",
      "Galactic coordinates: l = 82.410°, b = 2.325°\n",
      "Proper motion: mu_l = -0.96 mas / yr, mu_b = 2.52 mas / yr\n"
     ]
    }
   ],
   "source": [
    "# Save in shorter-name variables. These are all adimensional.\n",
    "parallax = ufloat(data['parallax'], data['parallax_err'])\n",
    "ra_err = radians(data['ra_err'])\n",
    "dec_err = radians(data['dec_err'])\n",
    "pm_ra_err = data['mu_ra_cosdec_err']\n",
    "pm_dec_err = data['mu_dec_err']\n",
    "v_r_err = data['V_r_err']\n",
    "\n",
    "# Convert to ufloatable objects (adimensional)\n",
    "ra = ufloat(source.ra.radian, ra_err)\n",
    "dec = ufloat(source.dec.radian, dec_err)\n",
    "pm_ra = ufloat(source.pm_ra_cosdec.to('mas/yr').value, pm_ra_err)\n",
    "pm_dec = ufloat(source.pm_dec.to('mas/yr').value, pm_dec_err)\n",
    "V_r = ufloat(source.galactic.radial_velocity.value, v_r_err)\n",
    "print(f'Galactic coordinates: RA = {ra:.5f} rad, DEC = {dec:.5f} rad')\n",
    "print(f'Proper motion: mu_ra = {pm_ra:.2u} mas/yr, mu_dec = {pm_dec:.2u} mas/yr')\n",
    "print(f'Radial velocity: V_r = {V_r:.2f} km/s')\n",
    "\n",
    "# Retrieve coordinates, distance and proper motion in Galactic coordinates. These are not adimensional. \n",
    "l, b, D = source.galactic.l, source.galactic.b, source.galactic.distance\n",
    "mu_l, mu_b = source.galactic.pm_l_cosb, source.galactic.pm_b\n",
    "\n",
    "print(f'\\nDistance: {D:.3f}')\n",
    "print(f'Galactic coordinates: l = {l.deg:.3f}°, b = {b.deg:.3f}°')\n",
    "print(f'Proper motion: mu_l = {mu_l:.2f}, mu_b = {mu_b:.2f}')"
   ]
  },
  {
   "cell_type": "markdown",
   "metadata": {},
   "source": [
    "#### Re-do the conversion of coordinates having error propagation\n",
    "(The calculations within astropy do not work with ufloat objects. Check that the results are consistent.)"
   ]
  },
  {
   "cell_type": "code",
   "execution_count": 5,
   "metadata": {},
   "outputs": [
    {
     "name": "stdout",
     "output_type": "stream",
     "text": [
      "distance = 1.72+/-0.04 kpc\n",
      "Galactic longitude: l = 82.41+/-0.01°\n",
      "Galactic latitude: b = 2.325+/-0.009°\n",
      "mu_l = -0.958+/-0.014 mas/yr\n",
      "mu_b = 2.519+/-0.014 mas/yr\n"
     ]
    }
   ],
   "source": [
    "# Define the transformation matrix between celestial to Galactic coordinates as in: \n",
    "# https://gea.esac.esa.int/archive/documentation/GDR1/Data_processing/chap_cu3ast/sec_cu3ast_intro.html\n",
    "\n",
    "# Matrix A_G' from Eq. 3.11:\n",
    "Agt = np.array([[-0.0548755604162154,-0.8734370902348850,-0.4838350155487132],\\\n",
    "              [0.4941094278755837,-0.4448296299600112,0.7469822444972189],\\\n",
    "              [-0.8676661490190047,-0.1980763734312015,0.4559837761750669]])\n",
    "\n",
    "dist = 1./parallax\n",
    "\n",
    "# Define the position vectors in ICRS and convert to Galactic:\n",
    "cra, sra = cos(ra), sin(ra)\n",
    "cd, sd = cos(dec), sin(dec)\n",
    "r_icrs = np.array([cra * cd, sra * cd, sd])   # Eq. 3.7\n",
    "r_gal = np.dot(Agt, r_icrs)                   # Eq. 3.9\n",
    "\n",
    "# Galactic longitude (l) and latitude (b), from Eq. 3.13\n",
    "l_gal = umath.atan2(r_gal[1], r_gal[0])   \n",
    "b_gal = umath.atan2(r_gal[2], sqrt(r_gal[0]**2 + r_gal[1]**2))\n",
    "cl, sl = cos(l_gal), sin(l_gal)\n",
    "cb, sb = cos(b_gal), sin(b_gal)\n",
    "\n",
    "# Auxiliary column matrices from Eqs. 3.14 and 3.15\n",
    "p_icrs = np.array([-sra, cra, 0])\n",
    "q_icrs = np.array([-cra * sd, -sra * sd, cd])\n",
    "p_gal = np.array([-sl, cl, 0])\n",
    "q_gal = np.array([-cl * sb, -sl * sb, cb])\n",
    "\n",
    "# Transform the proper motions to Galactic coordinates\n",
    "mu_icrs = p_icrs * pm_ra + q_icrs * pm_dec                     # Eq. 3.16\n",
    "mu_gal = np.dot(Agt, mu_icrs)                                  # Eq. 3.18\n",
    "mul, mub = np.dot(p_gal.T, mu_gal), np.dot(q_gal.T, mu_gal)  # Eq. 3.20 \n",
    "\n",
    "print('distance =', dist, 'kpc')\n",
    "print(f'Galactic longitude: l = {l_gal*180/np.pi:.1u}°')\n",
    "print(f'Galactic latitude: b = {b_gal*180/np.pi:.1u}°')\n",
    "print(f'mu_l = {mul:.2u} mas/yr')\n",
    "print(f'mu_b = {mub:.2u} mas/yr')"
   ]
  },
  {
   "cell_type": "markdown",
   "metadata": {},
   "source": [
    "#### Calculate local Galactic velocity field at the position of the source"
   ]
  },
  {
   "cell_type": "code",
   "execution_count": 6,
   "metadata": {},
   "outputs": [
    {
     "name": "stdout",
     "output_type": "stream",
     "text": [
      "Galactic rotation in mas/yr at the location of the source:\n",
      "(μ_l)0 = -4.55+/-0.01, (μ_b)0 = -0.81+/-0.02\n"
     ]
    }
   ],
   "source": [
    "# Define the oort constants to use (accepted: 'C07', 'B19', 'W21' )\n",
    "constants = 'C07'\n",
    "#constants = 'B19'\n",
    "#constants = 'W21'\n",
    "A, B, C, K, U, V, W = oort_constants(constants)\n",
    "\n",
    "# Calculate Galactic rotation velocity components\n",
    "V_r0, V_l0, V_b0 = galactic_velocity(dist, b_gal, l_gal, A, B, C, K, U, V, W)\n",
    "\n",
    "# Convert velocities to proper motions\n",
    "mu_l0, mu_b0 = velocity_to_propermotion(dist, V_l0, V_b0)\n",
    "\n",
    "print('Galactic rotation in mas/yr at the location of the source:')\n",
    "print(f'(\\u03BC_l)0 = {mu_l0:.1u}, (\\u03BC_b)0 = {mu_b0:.1u}')"
   ]
  },
  {
   "cell_type": "markdown",
   "metadata": {},
   "source": [
    "#### Calculate the object proper motion w.r.t. the local medium"
   ]
  },
  {
   "cell_type": "code",
   "execution_count": 7,
   "metadata": {},
   "outputs": [
    {
     "name": "stdout",
     "output_type": "stream",
     "text": [
      "\n",
      "Corrected proper motion of the source w.r.t. its environment:\n",
      "μ_l = 3.59+/-0.02, μ_b = 3.33+/-0.02\n",
      "\n",
      "Observed proper motion: μ_ra = -2.595+/-0.014 mas/yr, μ_dec = 0.729+/-0.014 mas/yr\n",
      "Corrected proper motion: μ_ra = -0.539+/-0.025 mas/yr, μ_dec = 4.872+/-0.014 mas/yr\n",
      "\n",
      "Uncorrected angle [deg] = -15.69+/-0.30\n",
      "Corrected angle [deg] = -83.69+/-0.29\n",
      "\n",
      "V_t [km/s] = 39.90+/-0.83\n",
      "V_r [km/s] = 69+/-10\n"
     ]
    }
   ],
   "source": [
    "# Proper motions w.r.t. the surrounding medium:\n",
    "mu_l_corr = mul - mu_l0\n",
    "mu_b_corr = mub - mu_b0\n",
    "\n",
    "print('\\nCorrected proper motion of the source w.r.t. its environment:')\n",
    "print(f'\\u03BC_l = {mu_l_corr:.1u}, \\u03BC_b = {mu_b_corr:.1u}')\n",
    "\n",
    "#Calculate mu_ra, mu_dec, and V_tan. We use the transpose of the transformation matrix. \n",
    "Ag = Agt.T\n",
    "\n",
    "# Transform the proper motions to Galactic coordinates\n",
    "mu_gal_corr = p_gal * mu_l_corr + q_gal * mu_b_corr                                       # Eq. 3.17\n",
    "mu_icrs_corr = np.dot(Ag, mu_gal_corr)                                                    # Eq. 3.19\n",
    "mu_ra_corr, mu_dec_corr = np.dot(p_icrs.T, mu_icrs_corr), np.dot(q_icrs.T, mu_icrs_corr)  # Eq. 3.21 \n",
    "\n",
    "print(f'\\nObserved proper motion: \\u03BC_ra = {pm_ra:.2u} mas/yr, \\u03BC_dec = {pm_dec:.2u} mas/yr')\n",
    "print(f'Corrected proper motion: \\u03BC_ra = {mu_ra_corr:.2u} mas/yr, \\u03BC_dec = {mu_dec_corr:.2u} mas/yr')\n",
    "\n",
    "# Calculate proper motion angle before and after correction for Galactic rotation \n",
    "angle = degrees( atan(pm_dec/pm_ra) )\n",
    "angle_corr = degrees( atan(mu_dec_corr/mu_ra_corr) )\n",
    "\n",
    "print(f'\\nUncorrected angle [deg] = {angle:.2u}')\n",
    "print(f'Corrected angle [deg] = {angle_corr:.2u}')\n",
    "\n",
    "# Calculate the corrected tangential velocity\n",
    "V_t = 4.74 * dist * sqrt(mu_l_corr**2 + mu_b_corr**2)\n",
    "print(f'\\nV_t [km/s] = {V_t:.2u}')\n",
    "\n",
    "# Calculate corrected radial velocity\n",
    "V_r_corr = V_r - V_r0\n",
    "print(f'V_r [km/s] = {V_r_corr:.2u}')"
   ]
  },
  {
   "cell_type": "markdown",
   "metadata": {},
   "source": [
    "### Add a consistency check of the conversion to mu_ra_corr, mu_dec_corr using astropy (no errorbars)"
   ]
  },
  {
   "cell_type": "code",
   "execution_count": 8,
   "metadata": {},
   "outputs": [
    {
     "name": "stdout",
     "output_type": "stream",
     "text": [
      "Corrected proper motion: μ_ra=-0.54 mas / yr, μ_dec=4.87 mas / yr\n"
     ]
    }
   ],
   "source": [
    "# Proper motion in Galactic coordinates (with uncertainties)\n",
    "mu_l = mu_l_corr.nominal_value * u.mas/u.yr\n",
    "mu_b = mu_b_corr.nominal_value * u.mas/u.yr\n",
    "\n",
    "# Create a SkyCoord object with the Galactic proper motion\n",
    "galactic_coord = coord.SkyCoord(\n",
    "    l=l, \n",
    "    b=b, \n",
    "    distance=(data['parallax']*u.mas).to(u.kpc, u.parallax()),\n",
    "    pm_l_cosb=mu_l, \n",
    "    pm_b=mu_b, \n",
    "    radial_velocity=data['V_r']*u.km/u.s, \n",
    "    frame='galactic'\n",
    ")\n",
    "\n",
    "# Convert to ICRS (equatorial coordinates)\n",
    "icrs_coord = galactic_coord.transform_to('icrs')\n",
    "\n",
    "# Extract the proper motion components in ICRS\n",
    "mu_ra_cosdec = icrs_coord.pm_ra_cosdec\n",
    "mu_dec = icrs_coord.pm_dec\n",
    "\n",
    "print(f'Corrected proper motion: \\u03BC_ra={mu_ra_cosdec:.2f}, \\u03BC_dec={mu_dec:.2f}')"
   ]
  },
  {
   "cell_type": "code",
   "execution_count": null,
   "metadata": {},
   "outputs": [],
   "source": []
  }
 ],
 "metadata": {
  "kernelspec": {
   "display_name": "Python 3 (ipykernel)",
   "language": "python",
   "name": "python3"
  },
  "language_info": {
   "codemirror_mode": {
    "name": "ipython",
    "version": 3
   },
   "file_extension": ".py",
   "mimetype": "text/x-python",
   "name": "python",
   "nbconvert_exporter": "python",
   "pygments_lexer": "ipython3",
   "version": "3.8.18"
  }
 },
 "nbformat": 4,
 "nbformat_minor": 4
}
